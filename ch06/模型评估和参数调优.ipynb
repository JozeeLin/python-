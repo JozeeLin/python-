{
 "cells": [
  {
   "cell_type": "code",
   "execution_count": 130,
   "metadata": {},
   "outputs": [],
   "source": [
    "import pandas as pd\n",
    "import numpy as np\n",
    "from sklearn.preprocessing import LabelEncoder\n",
    "from sklearn.model_selection import train_test_split\n",
    "from sklearn.preprocessing import StandardScaler\n",
    "from sklearn.decomposition import PCA\n",
    "from sklearn.linear_model import LogisticRegression\n",
    "from sklearn.pipeline import Pipeline\n",
    "from sklearn.model_selection import StratifiedKFold\n",
    "from sklearn.model_selection import cross_val_score\n",
    "import matplotlib.pyplot as plt\n",
    "from sklearn.model_selection import learning_curve\n",
    "from sklearn.model_selection import validation_curve\n",
    "from sklearn.model_selection import GridSearchCV\n",
    "from sklearn.svm import SVC\n",
    "from sklearn.tree import DecisionTreeClassifier\n",
    "from sklearn.metrics import confusion_matrix\n",
    "from sklearn.metrics import precision_score\n",
    "from sklearn.metrics import recall_score, f1_score\n",
    "from sklearn.metrics import make_scorer\n",
    "from sklearn.metrics import roc_curve, auc #ROC曲线，和AUC\n",
    "from scipy import interp \n",
    "from sklearn.metrics import roc_auc_score\n",
    "from sklearn.metrics import accuracy_score"
   ]
  },
  {
   "cell_type": "code",
   "execution_count": 2,
   "metadata": {
    "collapsed": true
   },
   "outputs": [],
   "source": [
    "df = pd.read_csv('https://archive.ics.uci.edu/ml/machine-learning-databases/breast-cancer-wisconsin/wdbc.data', header=None)"
   ]
  },
  {
   "cell_type": "code",
   "execution_count": 4,
   "metadata": {
    "collapsed": true
   },
   "outputs": [],
   "source": [
    "X = df.loc[:, 2:].values\n",
    "y = df.loc[:, 1].values\n",
    "le = LabelEncoder()\n",
    "y = le.fit_transform(y)"
   ]
  },
  {
   "cell_type": "code",
   "execution_count": 6,
   "metadata": {},
   "outputs": [
    {
     "data": {
      "text/plain": [
       "array([1, 0])"
      ]
     },
     "execution_count": 6,
     "metadata": {},
     "output_type": "execute_result"
    }
   ],
   "source": [
    "le.transform(['M','B'])"
   ]
  },
  {
   "cell_type": "code",
   "execution_count": 7,
   "metadata": {
    "collapsed": true
   },
   "outputs": [],
   "source": [
    "#数据集划分\n",
    "X_train,X_test,y_train,y_test = train_test_split(X,y,test_size=0.2,random_state=1)"
   ]
  },
  {
   "cell_type": "markdown",
   "metadata": {},
   "source": [
    "## 在流水线中集成数据转换及评估操作\n",
    "通过流水线将StandardScaler，PCA，以及LogisticsRegression对象串联起来"
   ]
  },
  {
   "cell_type": "code",
   "execution_count": 9,
   "metadata": {},
   "outputs": [
    {
     "name": "stdout",
     "output_type": "stream",
     "text": [
      "Test Accuracy: 0.947\n"
     ]
    }
   ],
   "source": [
    "pipe_lr = Pipeline([('sc1',StandardScaler()), ('pca',PCA(n_components=2)), ('clf',LogisticRegression(random_state=1))])\n",
    "pipe_lr.fit(X_train, y_train)\n",
    "#使用流水线之后，无需再为测试集重新传递参数\n",
    "print('Test Accuracy: %.3f' % pipe_lr.score(X_test, y_test))"
   ]
  },
  {
   "cell_type": "markdown",
   "metadata": {},
   "source": [
    "## 分层k折交叉验证\n",
    "sklearn中的StratifiedKFold"
   ]
  },
  {
   "cell_type": "code",
   "execution_count": 15,
   "metadata": {},
   "outputs": [
    {
     "name": "stdout",
     "output_type": "stream",
     "text": [
      "Fold: 1, Class dist.: [256 153], ACC: 0.891\n",
      "Fold: 2, Class dist.: [256 153], ACC: 0.978\n",
      "Fold: 3, Class dist.: [256 153], ACC: 0.978\n",
      "Fold: 4, Class dist.: [256 153], ACC: 0.913\n",
      "Fold: 5, Class dist.: [256 153], ACC: 0.935\n",
      "Fold: 6, Class dist.: [257 153], ACC: 0.978\n",
      "Fold: 7, Class dist.: [257 153], ACC: 0.933\n",
      "Fold: 8, Class dist.: [257 153], ACC: 0.956\n",
      "Fold: 9, Class dist.: [257 153], ACC: 0.978\n",
      "Fold: 10, Class dist.: [257 153], ACC: 0.956\n"
     ]
    }
   ],
   "source": [
    "kfold = StratifiedKFold(n_splits=10,random_state=1).split(X_train, y_train)\n",
    "scores = []\n",
    "for k, (train, test) in enumerate(kfold):\n",
    "    pipe_lr.fit(X_train[train], y_train[train])\n",
    "    score = pipe_lr.score(X_train[test], y_train[test])\n",
    "    scores.append(score)\n",
    "    print('Fold: %s, Class dist.: %s, ACC: %.3f' %(k+1, np.bincount(y_train[train]), score))"
   ]
  },
  {
   "cell_type": "code",
   "execution_count": 16,
   "metadata": {},
   "outputs": [
    {
     "name": "stdout",
     "output_type": "stream",
     "text": [
      "CV accuracy: 0.950 +/- 0.029\n"
     ]
    }
   ],
   "source": [
    "#平均性能\n",
    "print('CV accuracy: %.3f +/- %.3f' % (np.mean(scores),np.std(scores)))"
   ]
  },
  {
   "cell_type": "code",
   "execution_count": 18,
   "metadata": {
    "collapsed": true
   },
   "outputs": [],
   "source": [
    "#cross_val_score 可以将不同分块的性能评估计算分布到多个CPU上处理。\n",
    "scores = cross_val_score(estimator=pipe_lr, X=X_train, y=y_train,cv=10, n_jobs=1)"
   ]
  },
  {
   "cell_type": "code",
   "execution_count": 20,
   "metadata": {},
   "outputs": [
    {
     "name": "stdout",
     "output_type": "stream",
     "text": [
      "CV accuracy scores: [ 0.89130435  0.97826087  0.97826087  0.91304348  0.93478261  0.97777778\n",
      "  0.93333333  0.95555556  0.97777778  0.95555556]\n",
      "CV accuracy: 0.950 +/- 0.029\n"
     ]
    }
   ],
   "source": [
    "print('CV accuracy scores: %s' % scores)\n",
    "print('CV accuracy: %.3f +/- %.3f' % (np.mean(scores), np.std(scores)))"
   ]
  },
  {
   "cell_type": "markdown",
   "metadata": {},
   "source": [
    "# 使用sklearn中的学习曲线函数评估模型"
   ]
  },
  {
   "cell_type": "code",
   "execution_count": 39,
   "metadata": {
    "collapsed": true
   },
   "outputs": [],
   "source": [
    "pipe_lr = Pipeline([('sc1', StandardScaler()), ('clf',LogisticRegression(penalty='l2',random_state=0))])\n",
    "train_sizes, train_scores, test_scores = \\\n",
    "                    learning_curve(estimator=pipe_lr, \n",
    "                                   X=X_train, y=y_train, \n",
    "                                   train_sizes=np.linspace(0.1,1.0,10),\n",
    "                                   cv=10,n_jobs=1)"
   ]
  },
  {
   "cell_type": "markdown",
   "metadata": {},
   "source": [
    "train_sizes用于表示不同的训练数据集规模，这里使用了10种大小的训练集规模，分别是整个数据集的[0.1,0.2,...,1]倍\n",
    "cv表示在学习曲线中使用的分层k折交叉验证算法的k值\n",
    "返回值train_scores,表示分别在10个不同数量级的训练集上应用分层交叉验证分别得到的长度为cv的交叉验证分数数组，那么shape=（10，k)\n",
    "那么通过返回值就可以计算出，在10个不同数据集上，训练集和验证集的交叉验证的模型性能评估平均分数以及性能评估分数的标准差"
   ]
  },
  {
   "cell_type": "code",
   "execution_count": 33,
   "metadata": {
    "collapsed": true
   },
   "outputs": [],
   "source": [
    "train_mean = np.mean(train_scores, axis=1)\n",
    "train_std = np.std(train_scores, axis=1)\n",
    "test_mean = np.mean(test_scores, axis=1)\n",
    "test_std = np.std(test_scores, axis=1)"
   ]
  },
  {
   "cell_type": "code",
   "execution_count": 34,
   "metadata": {},
   "outputs": [
    {
     "data": {
      "image/png": "[encoded data removed]",
      "text/plain": [
       "<matplotlib.figure.Figure at 0x7f1cdf1ec4d0>"
      ]
     },
     "metadata": {},
     "output_type": "display_data"
    }
   ],
   "source": [
    "plt.plot(train_sizes, train_mean,color='blue',marker='o', markersize=5, label='training accuracy')\n",
    "plt.fill_between(train_sizes, train_mean+train_std, train_mean-train_std, alpha=0.15,color='blue')\n",
    "plt.plot(train_sizes, test_mean, color='green', linestyle='--', marker='s',markersize=5, label='validation accuracy')\n",
    "plt.fill_between(train_sizes, test_mean+test_std, test_mean-test_std, alpha=0.15, color='green')\n",
    "plt.grid()\n",
    "plt.xlabel('Number of training samples')\n",
    "plt.ylabel('Accuracy')\n",
    "plt.legend(loc='lower right')\n",
    "plt.ylim([0.8, 1.0])\n",
    "plt.show()"
   ]
  },
  {
   "cell_type": "markdown",
   "metadata": {},
   "source": [
    "通过fill_between函数加入了平均准确率标准差信息，用以表示评价结果的方差"
   ]
  },
  {
   "cell_type": "markdown",
   "metadata": {},
   "source": [
    "## 通过验证曲线来判定过拟合与欠拟合"
   ]
  },
  {
   "cell_type": "code",
   "execution_count": 42,
   "metadata": {
    "collapsed": true
   },
   "outputs": [],
   "source": [
    "#逻辑斯蒂回归中正则化参数C与准确率之间的验证曲线\n",
    "param_range = [0.001,0.01,0.1,1.0,10.0,100.0]\n",
    "train_scores, test_scores = validation_curve( \\\n",
    "                                estimator=pipe_lr,\n",
    "                                X=X_train,\n",
    "                                y = y_train,\n",
    "                                param_name='clf__C',\n",
    "                                param_range=param_range,\n",
    "                                cv=10)"
   ]
  },
  {
   "cell_type": "code",
   "execution_count": 50,
   "metadata": {
    "collapsed": true
   },
   "outputs": [],
   "source": [
    "train_mean = np.mean(train_scores,axis=1)\n",
    "train_std = np.std(train_scores,axis=1)\n",
    "test_mean = np.mean(test_scores,axis=1)\n",
    "test_std = np.std(test_scores,axis=1)"
   ]
  },
  {
   "cell_type": "code",
   "execution_count": 53,
   "metadata": {},
   "outputs": [
    {
     "data": {
      "image/png": "[encoded data removed]",
      "text/plain": [
       "<matplotlib.figure.Figure at 0x7f1cdf114590>"
      ]
     },
     "metadata": {},
     "output_type": "display_data"
    }
   ],
   "source": [
    "plt.plot(param_range, train_mean, color='blue',marker='o',markersize=5, label='training accuracy')\n",
    "plt.fill_between(param_range, train_mean+train_std, train_mean-train_std, alpha=0.5, color='blue')\n",
    "plt.plot(param_range, test_mean, color='green',linestyle='--',marker='s',markersize=5, label='validation accuracy')\n",
    "plt.fill_between(param_range, test_mean+test_std, test_mean-test_std, alpha=0.5, color='green')\n",
    "\n",
    "plt.grid()\n",
    "plt.xscale('log')\n",
    "plt.xlabel('parameter C')\n",
    "plt.ylabel('Accuracy')\n",
    "plt.legend(loc='lower right')\n",
    "plt.ylim([0.8, 1.0])\n",
    "plt.show()"
   ]
  },
  {
   "cell_type": "markdown",
   "metadata": {},
   "source": [
    "从图中可以看出，加大C值，就是降低正则化强度，模型会出现过拟合现象，训练误差和验证误差之间的差距越来越大， <br>\n",
    "减小C值，就是加大正则化强度，模型会出现欠拟合现象 <br>\n",
    "我们看出在C=0.1处，泛化误差最下。也就是，训练准确率与验证准确率之间的差距很小的同时保持着很高的准确率 <br>"
   ]
  },
  {
   "cell_type": "markdown",
   "metadata": {},
   "source": [
    "## 使用网格搜索调优超参"
   ]
  },
  {
   "cell_type": "code",
   "execution_count": 61,
   "metadata": {
    "collapsed": true
   },
   "outputs": [],
   "source": [
    "pipe_svc = Pipeline([('sc1',StandardScaler()),\n",
    "                    ('clf', SVC(random_state=1))])\n",
    "param_range=[0.0001,0.001,0.01,0.1,1.0,10.0,100.0,1000.0]\n",
    "#这里有两种不同svm核，一种是线性的，一种是rbf，同时比较这两者的最优模型\n",
    "param_grid = [{'clf__C':param_range,\n",
    "              'clf__kernel':['linear']},\n",
    "             {'clf__C':param_range,\n",
    "             'clf__gamma': param_range,\n",
    "             'clf__kernel':['rbf']}]"
   ]
  },
  {
   "cell_type": "code",
   "execution_count": 66,
   "metadata": {
    "collapsed": true
   },
   "outputs": [],
   "source": [
    "#对支持向量机流水线的训练与调优\n",
    "gs = GridSearchCV(estimator=pipe_svc,param_grid=param_grid,scoring='accuracy', cv=10,n_jobs=-1)"
   ]
  },
  {
   "cell_type": "code",
   "execution_count": 67,
   "metadata": {},
   "outputs": [
    {
     "name": "stdout",
     "output_type": "stream",
     "text": [
      "0.978021978022\n"
     ]
    }
   ],
   "source": [
    "gs = gs.fit(X_train, y_train)\n",
    "print(gs.best_score_)"
   ]
  },
  {
   "cell_type": "code",
   "execution_count": 68,
   "metadata": {},
   "outputs": [
    {
     "name": "stdout",
     "output_type": "stream",
     "text": [
      "{'clf__C': 0.1, 'clf__kernel': 'linear'}\n"
     ]
    }
   ],
   "source": [
    "print(gs.best_params_)"
   ]
  },
  {
   "cell_type": "code",
   "execution_count": 69,
   "metadata": {},
   "outputs": [
    {
     "name": "stdout",
     "output_type": "stream",
     "text": [
      "Test_Accuracy: 0.965\n"
     ]
    }
   ],
   "source": [
    "#使用独立的测试数据集，通过GridSearchCV对象的best_estimator_属性对最优模型进行性能评估\n",
    "clf = gs.best_estimator_\n",
    "clf.fit(X_train,y_train)\n",
    "print('Test_Accuracy: %.3f' % clf.score(X_test, y_test))"
   ]
  },
  {
   "cell_type": "markdown",
   "metadata": {},
   "source": [
    "## 使用sklearn中的嵌套交叉验证\n",
    "使用嵌套交叉验证方法比较SVM模型与简单的决策树分类器"
   ]
  },
  {
   "cell_type": "code",
   "execution_count": 71,
   "metadata": {},
   "outputs": [],
   "source": [
    "gs = GridSearchCV(estimator=pipe_svc,\n",
    "               param_grid=param_grid,\n",
    "               scoring='accuracy',\n",
    "               cv=10,\n",
    "               n_jobs=-1)"
   ]
  },
  {
   "cell_type": "code",
   "execution_count": 72,
   "metadata": {},
   "outputs": [
    {
     "name": "stdout",
     "output_type": "stream",
     "text": [
      "CV accuracy: 0.972 +/- 0.012\n"
     ]
    }
   ],
   "source": [
    "scores = cross_val_score(gs, X, y, scoring='accuracy', cv=5)\n",
    "print('CV accuracy: %.3f +/- %.3f' % (np.mean(scores), np.std(scores)))"
   ]
  },
  {
   "cell_type": "code",
   "execution_count": 75,
   "metadata": {
    "collapsed": true
   },
   "outputs": [],
   "source": [
    "gs = GridSearchCV(estimator=DecisionTreeClassifier(random_state=0),\n",
    "                 param_grid=[\n",
    "                     {'max_depth':[1,2,3,4,5,6,7,None]}\n",
    "                 ], scoring='accuracy',cv=5)"
   ]
  },
  {
   "cell_type": "code",
   "execution_count": 76,
   "metadata": {},
   "outputs": [
    {
     "name": "stdout",
     "output_type": "stream",
     "text": [
      "CV accuracy: 0.908 +/- 0.045\n"
     ]
    }
   ],
   "source": [
    "scores = cross_val_score(gs, X_train, y_train, scoring='accuracy', cv=5)\n",
    "print('CV accuracy: %.3f +/- %.3f' % (np.mean(scores),np.std(scores)))"
   ]
  },
  {
   "cell_type": "markdown",
   "metadata": {},
   "source": [
    "## 混淆矩阵"
   ]
  },
  {
   "cell_type": "code",
   "execution_count": 78,
   "metadata": {},
   "outputs": [
    {
     "data": {
      "text/plain": [
       "Pipeline(steps=[('sc1', StandardScaler(copy=True, with_mean=True, with_std=True)), ('clf', SVC(C=1.0, cache_size=200, class_weight=None, coef0=0.0,\n",
       "  decision_function_shape=None, degree=3, gamma='auto', kernel='rbf',\n",
       "  max_iter=-1, probability=False, random_state=1, shrinking=True,\n",
       "  tol=0.001, verbose=False))])"
      ]
     },
     "execution_count": 78,
     "metadata": {},
     "output_type": "execute_result"
    }
   ],
   "source": [
    "pipe_svc.fit(X_train,y_train)"
   ]
  },
  {
   "cell_type": "code",
   "execution_count": 79,
   "metadata": {
    "collapsed": true
   },
   "outputs": [],
   "source": [
    "y_pred = pipe_svc.predict(X_test)"
   ]
  },
  {
   "cell_type": "code",
   "execution_count": 80,
   "metadata": {
    "collapsed": true
   },
   "outputs": [],
   "source": [
    "confmat = confusion_matrix(y_true=y_test,y_pred =y_pred)"
   ]
  },
  {
   "cell_type": "code",
   "execution_count": 82,
   "metadata": {},
   "outputs": [
    {
     "name": "stdout",
     "output_type": "stream",
     "text": [
      "[[71  1]\n",
      " [ 2 40]]\n"
     ]
    }
   ],
   "source": [
    "print(confmat)"
   ]
  },
  {
   "cell_type": "code",
   "execution_count": 83,
   "metadata": {},
   "outputs": [
    {
     "data": {
      "image/png": "[encoded data removed]",
      "text/plain": [
       "<matplotlib.figure.Figure at 0x7f1cded60e90>"
      ]
     },
     "metadata": {},
     "output_type": "display_data"
    }
   ],
   "source": [
    "#使用matplotlib中的matshow函数将以图像形式显示出来\n",
    "fig, ax = plt.subplots(figsize=(2.5,2.5))\n",
    "ax.matshow(confmat, cmap=plt.cm.Blues, alpha=0.3)\n",
    "for i in range(confmat.shape[0]):\n",
    "    for j in range(confmat.shape[1]):\n",
    "        ax.text(x=j,y=i,s=confmat[i,j],va='center',ha='center')\n",
    "        \n",
    "plt.xlabel('predicted label')\n",
    "plt.ylabel('true label')\n",
    "plt.show()"
   ]
  },
  {
   "cell_type": "code",
   "execution_count": 85,
   "metadata": {},
   "outputs": [
    {
     "name": "stdout",
     "output_type": "stream",
     "text": [
      "precision: 0.976\n"
     ]
    }
   ],
   "source": [
    "print('precision: %.3f' % precision_score(y_true=y_test, y_pred=y_pred))"
   ]
  },
  {
   "cell_type": "code",
   "execution_count": 86,
   "metadata": {},
   "outputs": [
    {
     "name": "stdout",
     "output_type": "stream",
     "text": [
      "recall: 0.952\n"
     ]
    }
   ],
   "source": [
    "print('recall: %.3f' % recall_score(y_true=y_test, y_pred=y_pred))"
   ]
  },
  {
   "cell_type": "code",
   "execution_count": 87,
   "metadata": {},
   "outputs": [
    {
     "name": "stdout",
     "output_type": "stream",
     "text": [
      "F1: 0.964\n"
     ]
    }
   ],
   "source": [
    "print('F1: %.3f' % f1_score(y_true=y_test, y_pred=y_pred))"
   ]
  },
  {
   "cell_type": "code",
   "execution_count": 90,
   "metadata": {},
   "outputs": [],
   "source": [
    "#通过make_scorer函数，可以把正类类标表示成0，而不是默认的1\n",
    "scorer = make_scorer(f1_score, pos_label=0)"
   ]
  },
  {
   "cell_type": "markdown",
   "metadata": {},
   "source": [
    "## 画出威斯康星乳腺癌数据集的ROC曲线"
   ]
  },
  {
   "cell_type": "code",
   "execution_count": 127,
   "metadata": {},
   "outputs": [],
   "source": [
    "X_train2 = X_train[:, [4,14]]\n",
    "\n",
    "cv = StratifiedKFold(n_splits=3, random_state=1).split(X_train2, y_train)"
   ]
  },
  {
   "cell_type": "code",
   "execution_count": 128,
   "metadata": {
    "collapsed": true
   },
   "outputs": [],
   "source": [
    "fig = plt.figure(figsize=(7,5))\n",
    "mean_tpr = 0.0\n",
    "mean_fpr = np.linspace(0,1,100)\n",
    "all_tpr=[]\n",
    "cv_size = 0"
   ]
  },
  {
   "cell_type": "code",
   "execution_count": 129,
   "metadata": {},
   "outputs": [
    {
     "data": {
      "image/png": "[encoded data removed]",
      "text/plain": [
       "<matplotlib.figure.Figure at 0x7f1cdc826250>"
      ]
     },
     "metadata": {},
     "output_type": "display_data"
    }
   ],
   "source": [
    "for i,(train,test) in enumerate(cv):\n",
    "    probas = pipe_lr.fit(X_train2[train], y_train[train]).predict_proba(X_train2[test])\n",
    "    fpr,tpr,thresholds = roc_curve(y_train[test],probas[:,1],pos_label=1) #假正率，真正率，阈值\n",
    "    mean_tpr += interp(mean_fpr, fpr, tpr)#通过interp函数利用三个快数据对ROC曲线的内插均值进行计算\n",
    "    mean_tpr[0] = 0.0\n",
    "    roc_auc = auc(fpr, tpr) #计算低于ROC曲线区域的面积。\n",
    "    plt.plot(fpr,tpr, lw=1,label='ROC fold %d (area = %0.2f)' % (i+1,roc_auc))\n",
    "    cv_size = i\n",
    "    \n",
    "#对角线\n",
    "plt.plot([0,1],[0,1],linestyle='--',color=(0.6,0.6,0.6),label='random guessing')\n",
    "mean_tpr /= (cv_size+1)\n",
    "mean_tpr[-1] = 1.0\n",
    "mean_auc = auc(mean_fpr, mean_tpr)\n",
    "plt.plot(mean_fpr, mean_tpr, 'k--', label='mean ROC(area=%.2f)' % mean_auc, lw=2)\n",
    "plt.plot([0,0,1],[0,1,1],lw=2,linestyle=':',color='black',label='perfect performance')\n",
    "plt.xlim([-0.05,1.05])\n",
    "plt.ylim([-0.05,1.05])\n",
    "plt.xlabel('false positive rate')\n",
    "plt.ylabel('true positive rate')\n",
    "plt.title('Receiver Operator Characteristic')\n",
    "plt.legend(loc='lower right')\n",
    "plt.show()"
   ]
  },
  {
   "cell_type": "markdown",
   "metadata": {},
   "source": [
    "上图三种不同的ROC曲线表明不同的块之间存在一定的方差。且平均ROC AUC(0.75)位于最理想情况1.0与随机猜测0.5之间"
   ]
  },
  {
   "cell_type": "code",
   "execution_count": 132,
   "metadata": {},
   "outputs": [
    {
     "name": "stdout",
     "output_type": "stream",
     "text": [
      "ROC AUC: 0.671\n"
     ]
    }
   ],
   "source": [
    "#计算模型在测试集上的ROC，AUC得分\n",
    "pipe_svc = pipe_svc.fit(X_train2, y_train)\n",
    "y_pred2 = pipe_svc.predict(X_test[:,[4,14]])\n",
    "print('ROC AUC: %.3f' % roc_auc_score(y_true=y_test,y_score=y_pred2))"
   ]
  },
  {
   "cell_type": "code",
   "execution_count": 133,
   "metadata": {},
   "outputs": [
    {
     "name": "stdout",
     "output_type": "stream",
     "text": [
      "Accuracy: 0.728\n"
     ]
    }
   ],
   "source": [
    "print('Accuracy: %.3f' % accuracy_score(y_true=y_test, y_pred=y_pred2))"
   ]
  },
  {
   "cell_type": "code",
   "execution_count": null,
   "metadata": {
    "collapsed": true
   },
   "outputs": [],
   "source": []
  }
 ],
 "metadata": {
  "kernelspec": {
   "display_name": "Python 2",
   "language": "python",
   "name": "python2"
  },
  "language_info": {
   "codemirror_mode": {
    "name": "ipython",
    "version": 2
   },
   "file_extension": ".py",
   "mimetype": "text/x-python",
   "name": "python",
   "nbconvert_exporter": "python",
   "pygments_lexer": "ipython2",
   "version": "2.7.13"
  }
 },
 "nbformat": 4,
 "nbformat_minor": 2
}
